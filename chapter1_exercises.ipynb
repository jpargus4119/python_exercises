{
 "cells": [
  {
   "cell_type": "markdown",
   "id": "2aa1aa49",
   "metadata": {},
   "source": [
    "#### This Program contains my answers on python assignment about VARIABLES, OPERATORS AND EXPRESSION."
   ]
  },
  {
   "cell_type": "markdown",
   "id": "979ef221",
   "metadata": {},
   "source": [
    "1. Write a program that asks the user for his name and then welcomes him. The output should look like this :\n",
    "\n",
    "Enter your name : Saksham\n",
    "\n",
    "Hello Saksham"
   ]
  },
  {
   "cell_type": "code",
   "execution_count": 2,
   "id": "ed828656",
   "metadata": {},
   "outputs": [
    {
     "name": "stdout",
     "output_type": "stream",
     "text": [
      "Enter your name : Saksham\n",
      "\n",
      "Hello Saksham\n"
     ]
    }
   ],
   "source": [
    "name = str(input('Enter your name : '))\n",
    "print('\\nHello', name)"
   ]
  },
  {
   "cell_type": "markdown",
   "id": "f7626c75",
   "metadata": {},
   "source": [
    "2. Write a program that prompts the user to enter two integers and display the total on the screen."
   ]
  },
  {
   "cell_type": "code",
   "execution_count": 4,
   "id": "7c4a6999",
   "metadata": {},
   "outputs": [
    {
     "name": "stdout",
     "output_type": "stream",
     "text": [
      "Enter first number : 12\n",
      "\n",
      "Enter second number : 45\n",
      "\n",
      "The sum of two number :  57\n"
     ]
    }
   ],
   "source": [
    "num1 = int(input('Enter first number : '))\n",
    "num2 = int(input('\\nEnter second number : '))\n",
    "sum = num1 + num2\n",
    "print('\\nThe sum of two number : ',sum)"
   ]
  },
  {
   "cell_type": "markdown",
   "id": "6007e702",
   "metadata": {},
   "source": [
    "3. Write a program that prompts the user to input a Celsius temperature and outputs the equivalent temperature in Fahrenheit. The formula to convert the temperature is: F = 9/5 C + 32 where F is the Fahrenheit temperature and C is the Celsius temperature."
   ]
  },
  {
   "cell_type": "code",
   "execution_count": 10,
   "id": "f4be61c1",
   "metadata": {},
   "outputs": [
    {
     "name": "stdout",
     "output_type": "stream",
     "text": [
      "Enter a temperature in Celsius : 37.5\n",
      "\n",
      "The temperature converted to Fahrenheit :  99.5\n"
     ]
    }
   ],
   "source": [
    "celsius = float(input('Enter a temperature in Celsius : '))\n",
    "fahrenheit = ((9/5) * celsius) + 32\n",
    "print('\\nThe temperature converted to Fahrenheit : ', fahrenheit)"
   ]
  },
  {
   "cell_type": "markdown",
   "id": "30eb6f40",
   "metadata": {},
   "source": [
    "4. Write a program which accept principle, rate and time from user and print the simple interest. The formula to calculate simple interest is: simple interest = principle x rate x time / 100"
   ]
  },
  {
   "cell_type": "code",
   "execution_count": 12,
   "id": "ae6659d1",
   "metadata": {},
   "outputs": [
    {
     "name": "stdout",
     "output_type": "stream",
     "text": [
      "Enter Principle : 10000\n",
      "\n",
      "Enter rate : 0.05\n",
      "\n",
      "Enter time : 20\n",
      "\n",
      "Calculated simple interest :  100.0\n"
     ]
    }
   ],
   "source": [
    "principle = float(input('Enter Principle : '))\n",
    "rate = float(input('\\nEnter rate : '))\n",
    "time = float(input('\\nEnter time : '))\n",
    "\n",
    "simple_interest = (principle * rate * time) / 100;\n",
    "\n",
    "print('\\nCalculated simple interest : ', simple_interest)"
   ]
  },
  {
   "cell_type": "markdown",
   "id": "bc45f21f",
   "metadata": {},
   "source": [
    "5. Write a program that accepts seconds from keyboard as integer. Your program should converts seconds in hours, minutes and seconds. Your output should like this :\n",
    "\n",
    "Enter seconds: 13400\n",
    "\n",
    "Hours: 3\n",
    "\n",
    "Minutes: 43\n",
    "\n",
    "Seconds: 20  Solution"
   ]
  },
  {
   "cell_type": "code",
   "execution_count": 6,
   "id": "85de1007",
   "metadata": {},
   "outputs": [
    {
     "name": "stdout",
     "output_type": "stream",
     "text": [
      "Enter a number in seconds to convert into Hrs,Min and Sec : 8951\n",
      "\n",
      "Hours :  2\n",
      "\n",
      "Minutes :  29\n",
      "\n",
      "Seconds :  11\n"
     ]
    }
   ],
   "source": [
    "#Enter a number in seconds\n",
    "input_seconds = int(input('Enter a number in seconds to convert into Hrs,Min and Sec : '))\n",
    "\n",
    "# 1 minute = 60 sec\n",
    "# 1 hour = 60 min || 60 minute * 60 sec || 3600 sec\n",
    "\n",
    "hrs = input_seconds // 3600\n",
    "minutes = (input_seconds % 3600) // 60\n",
    "seconds = (input_seconds % 60) \n",
    "\n",
    "print('\\nHours : ', hrs)\n",
    "print('\\nMinutes : ', minutes)\n",
    "print('\\nSeconds : ', seconds)\n"
   ]
  },
  {
   "cell_type": "markdown",
   "id": "c3f76665",
   "metadata": {},
   "source": [
    "6. Write a program that prompts the user to enter number in two variables and swap the contents of the variables."
   ]
  },
  {
   "cell_type": "markdown",
   "id": "82748deb",
   "metadata": {},
   "source": [
    "7. Write a program that prompts the user to enter number in two variables and swap the contents of the variables.(Do not declare extra variable.)"
   ]
  },
  {
   "cell_type": "code",
   "execution_count": 8,
   "id": "a659a15f",
   "metadata": {},
   "outputs": [
    {
     "name": "stdout",
     "output_type": "stream",
     "text": [
      "Enter first number to store in \"A\" : 34\n",
      "\n",
      "Enter second number to store in \"B\" : 12\n",
      "\n",
      "Result After swapping the number\n",
      "\n",
      "A :  12\n",
      "\n",
      "B :  34\n"
     ]
    }
   ],
   "source": [
    "#Enter first and second number\n",
    "a = int(input('Enter first number to store in \"A\" : '))\n",
    "b = int(input('\\nEnter second number to store in \"B\" : '))\n",
    "\n",
    "a = a + b\n",
    "b = a - b\n",
    "a = a - b\n",
    "\n",
    "print('\\nResult After swapping the number')\n",
    "print('\\nA : ', a)\n",
    "print('\\nB : ', b)"
   ]
  },
  {
   "cell_type": "markdown",
   "id": "653ce6bb",
   "metadata": {},
   "source": [
    "8. Write a program that prompts the user to input the radius of a circle and outputs the area and circumference of the circle. The formula is\n",
    "\n",
    "Area = pi x radius2\n",
    "\n",
    "Circumference = 2 x pi x radius"
   ]
  },
  {
   "cell_type": "code",
   "execution_count": 12,
   "id": "61e08131",
   "metadata": {},
   "outputs": [
    {
     "name": "stdout",
     "output_type": "stream",
     "text": [
      "Enter radius of a circle to compute for area and circumference of the circle : 25\n",
      "\n",
      "The Area of the circle is :  1963.44\n",
      "\n",
      "The Circumference of the circle :  157.08\n"
     ]
    }
   ],
   "source": [
    "#To compute for the area and circumference of the circle, radius of the circle must be given.\n",
    "radius = float(input('Enter radius of a circle to compute for area and circumference of the circle : '))\n",
    "\n",
    "#the value of pi is constant\n",
    "pi = 3.1415\n",
    "\n",
    "area = pi * (radius**2)\n",
    "circumference = 2 * pi * radius\n",
    "\n",
    "print('\\nThe Area of the circle is : ',round(area,2))\n",
    "print('\\nThe Circumference of the circle : ', round(circumference,2))"
   ]
  },
  {
   "cell_type": "markdown",
   "id": "9423d50c",
   "metadata": {},
   "source": [
    "9. Write a program that prompts the user to input the length and the width of a rectangle and outputs the area and parameter of the rectangle. The formula is\n",
    "\n",
    "Area = Length x Width\n",
    "\n",
    "parameter = 2 x ( Length + Width)"
   ]
  },
  {
   "cell_type": "code",
   "execution_count": 15,
   "id": "4ccd578d",
   "metadata": {},
   "outputs": [
    {
     "name": "stdout",
     "output_type": "stream",
     "text": [
      "Enter the length of the rectangle : 10.54\n",
      "\n",
      "Enter the width of the rectangle : 3.58\n",
      "\n",
      "The area of the rectangle :  37.73\n",
      "\n",
      "The parameter of the rectangle :  28.24\n"
     ]
    }
   ],
   "source": [
    "#To compute for the area and parameter of a rectangle, the length and width must be given.\n",
    "length = float(input('Enter the length of the rectangle : '))\n",
    "width = float(input('\\nEnter the width of the rectangle : '))\n",
    "\n",
    "#formula to compute the area and parameter\n",
    "area = length * width\n",
    "parameter = 2  * (length + width)\n",
    "\n",
    "#display the area and the parameter of the rectangle\n",
    "print('\\nThe area of the rectangle : ', round(area,2))\n",
    "print('\\nThe parameter of the rectangle : ', round(parameter,2))"
   ]
  },
  {
   "cell_type": "markdown",
   "id": "b2380050",
   "metadata": {},
   "source": [
    "10. Suppose a, b, and c denote the lengths of the sides of a triangle. Then the area of the triangle can be calculated using the formula:\n",
    "\n",
    "area - sqrt((s(s-a)(s-b)(s-c))\n",
    "\n",
    "where s = (a+b+c)/2\n",
    "\n",
    "Write a program that asks the user to input the length of sides of the triangle and print the area. "
   ]
  },
  {
   "cell_type": "code",
   "execution_count": 32,
   "id": "0fa2c9a7",
   "metadata": {},
   "outputs": [
    {
     "name": "stdout",
     "output_type": "stream",
     "text": [
      "Enter the length of side \"A\" : 3\n",
      "Enter the length of side \"B\" : 4\n",
      "Enter the length of side \"C\" : 5\n",
      "\n",
      "The Area of the triangle :  1.2\n"
     ]
    }
   ],
   "source": [
    "#To compute for the area of a triangle, length of 3 sides must be given\n",
    "a = float(input('Enter the length of side \"A\" : '))\n",
    "b = float(input('Enter the length of side \"B\" : '))\n",
    "c = float(input('Enter the length of side \"C\" : '))\n",
    "\n",
    "#number ** 0.05 is equal to sqrt(number)\n",
    "\n",
    "s = (a+b+c)/2\n",
    "area = (s*(s-a)*(s-b)*(s-c))**(0.05)\n",
    "\n",
    "print('\\nThe Area of the triangle : ', round(area,2))"
   ]
  },
  {
   "cell_type": "markdown",
   "id": "aa63b5ea",
   "metadata": {},
   "source": [
    "11. Write a program which prompts the user to input principle, rate and time and calculate compound interest. The formula is :\n",
    "\n",
    "CI = P(1+R/100)^T - P"
   ]
  },
  {
   "cell_type": "code",
   "execution_count": 39,
   "id": "c425736c",
   "metadata": {},
   "outputs": [
    {
     "name": "stdout",
     "output_type": "stream",
     "text": [
      "\n",
      "Enter the principle :  10000\n",
      "\n",
      "Enter the rate (%) : 3\n",
      "\n",
      "Enter the time (yrs) : 2\n",
      "\n",
      "The compound interest is :  609.0\n"
     ]
    }
   ],
   "source": [
    "#User must enter the priciple, rate and time to calculate the compound interest\n",
    "\n",
    "principle = float(input('\\nEnter the principle :  '))\n",
    "rate = float(input('\\nEnter the rate (%) : '))\n",
    "time = float(input('\\nEnter the time (yrs) : '))\n",
    "\n",
    "\n",
    "compound_interest = principle * ((1+(rate/100))**time) - principle\n",
    "\n",
    "print('\\nThe compound interest is : ', round(compound_interest,2))"
   ]
  }
 ],
 "metadata": {
  "kernelspec": {
   "display_name": "Python 3 (ipykernel)",
   "language": "python",
   "name": "python3"
  },
  "language_info": {
   "codemirror_mode": {
    "name": "ipython",
    "version": 3
   },
   "file_extension": ".py",
   "mimetype": "text/x-python",
   "name": "python",
   "nbconvert_exporter": "python",
   "pygments_lexer": "ipython3",
   "version": "3.9.13"
  }
 },
 "nbformat": 4,
 "nbformat_minor": 5
}

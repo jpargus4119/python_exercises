{
 "cells": [
  {
   "cell_type": "markdown",
   "id": "5c30ee1d",
   "metadata": {},
   "source": [
    "##### Chapter 3 exercises : Looping Structure"
   ]
  },
  {
   "cell_type": "markdown",
   "id": "6bc60476",
   "metadata": {},
   "source": [
    "1. Write a program to print numbers from 1 to 10."
   ]
  },
  {
   "cell_type": "code",
   "execution_count": 27,
   "id": "d5984422",
   "metadata": {},
   "outputs": [
    {
     "name": "stdout",
     "output_type": "stream",
     "text": [
      "1 2 3 4 5 6 7 8 9 10 \n",
      "\n",
      "1 2 3 4 5 6 7 8 9 10 "
     ]
    }
   ],
   "source": [
    "# Using while loop\n",
    "i = 1\n",
    "while i <= 10:\n",
    "    print(i, end=\" \")\n",
    "    i = i + 1\n",
    "    \n",
    "print('\\n')\n",
    "    \n",
    "# Using for loop\n",
    "for j in range(1,11):\n",
    "    print(j, end=\" \")"
   ]
  },
  {
   "cell_type": "markdown",
   "id": "67375056",
   "metadata": {},
   "source": [
    "2. Write a program that asks the user for a positive integer value. The program should calculate the sum of all the integers from 1 up to the number entered. For example, if the user enters 20, the loop will find the sum of 1, 2, 3, 4, ... 20."
   ]
  },
  {
   "cell_type": "code",
   "execution_count": 54,
   "id": "d12809b5",
   "metadata": {},
   "outputs": [
    {
     "name": "stdout",
     "output_type": "stream",
     "text": [
      "Enter a positive integer : 117\n",
      "\n",
      "Sum :  6903\n",
      "\n",
      "Sum :  6903\n"
     ]
    }
   ],
   "source": [
    "# Using while loop\n",
    "num = int(input('Enter a positive integer : '))\n",
    "\n",
    "if num > 0:\n",
    "    sum = 0\n",
    "    i = 1\n",
    "    while i <= num:\n",
    "        sum = sum + i\n",
    "        i = i + 1\n",
    "        \n",
    "    print('\\nSum : ',sum)\n",
    "\n",
    "else :\n",
    "    print('\\nInvalid Input')\n",
    "    \n",
    "# Using for loop\n",
    "sum0 = 0\n",
    "for j in range(1,num+1):\n",
    "    sum0 = sum0 + j\n",
    "\n",
    "print('\\nSum : ',sum0)"
   ]
  },
  {
   "cell_type": "markdown",
   "id": "88346bb2",
   "metadata": {},
   "source": [
    "3. Write a program that prompts the user to input a number and prints its mulitiplication table."
   ]
  },
  {
   "cell_type": "markdown",
   "id": "1ef369af",
   "metadata": {},
   "source": [
    "4. Write a program that prompts the user to input a number and prints its factorial. The factorial of an integer n is defined as n! = 1 x 2 x 3 x ... x n; if n > 0 = 1; if n = 0 For instance, 6! can be calculated as 1 x 2 x 3 x 4 x 5 x 6."
   ]
  },
  {
   "cell_type": "markdown",
   "id": "93f30483",
   "metadata": {},
   "source": [
    "5. Two numbers are entered through the keyboard. Write a program to find the value of one number raised to the power of another."
   ]
  },
  {
   "cell_type": "markdown",
   "id": "793b8387",
   "metadata": {},
   "source": [
    "6. Write a program that prompts the user to input a number and reverse its digits. For example, the reverse of 12345 is 54321; reverse of 5600 is 65."
   ]
  },
  {
   "cell_type": "markdown",
   "id": "381e439e",
   "metadata": {},
   "source": [
    "7. Write a program that asks the user to input a positive integer. Your program should find and display the sum of digits of number. For example, sum of digits of number 32518 is 3+2+5+1+8 = 19."
   ]
  },
  {
   "cell_type": "markdown",
   "id": "e4e43c97",
   "metadata": {},
   "source": [
    "8. A palindromic number is a number that remains the same when its digits are reversed. For example, 16461. Write a program that prompts the user to input a number and determine whether the number is palindrome or not."
   ]
  },
  {
   "cell_type": "markdown",
   "id": "d773670e",
   "metadata": {},
   "source": [
    "9. Write a program that prompts the user to input a decimal integer and display its binary equivalent. "
   ]
  },
  {
   "cell_type": "markdown",
   "id": "7fd0a07a",
   "metadata": {},
   "source": [
    "10. Write a program that prompts the user to input a binary number and display its decimal equivalent."
   ]
  },
  {
   "cell_type": "markdown",
   "id": "53c558f2",
   "metadata": {},
   "source": [
    "11. Write a program that prompts the user to input a positive integer. It should then output a message indicating whether the number is a prime number. A prime number is a number that is evenly divisible only by itself and 1. For example, the number 5 is prime because it can be evenly divided only by 1 and 5. The number 6, however, is not prime because it can be divided evenly by I, 2, 3, and 6."
   ]
  },
  {
   "cell_type": "markdown",
   "id": "21cc3c97",
   "metadata": {},
   "source": [
    "12. Write a program that prompts the user to input two numbers and display its HCF. The Highest Common Factor (HCF) also called the Greatest Common Divisor (GCD) of two whole numbers, is the largest whole number that's a factor of both of them."
   ]
  },
  {
   "cell_type": "markdown",
   "id": "7404be9a",
   "metadata": {},
   "source": [
    "13. Write a program to enter the numbers till the user wants and at the end it should display the count of positive, negative and zeros entered. "
   ]
  },
  {
   "cell_type": "markdown",
   "id": "fe22f3cd",
   "metadata": {},
   "source": [
    "14. Write a program to enter the numbers till the user wants and at the end the program should display the largest and smallest numbers entered."
   ]
  },
  {
   "cell_type": "markdown",
   "id": "fcbb34f6",
   "metadata": {},
   "source": [
    "15. An Armstrong number of three digits is an integer such that the sum of the cubes of its digits is equal to the number itself. For example, 371 is an Armstrong number since 33 + 73 + 13 = 371. Write a program to find all Armstrong number in the range of 0 and 999"
   ]
  },
  {
   "cell_type": "markdown",
   "id": "f6a69b11",
   "metadata": {},
   "source": [
    "16. Write a program to obtain the first 25 numbers of a Fibonacci sequence. In a Fibonacci sequence the sum of two successive terms gives the third term. Following are the first few terms of the Fibonacci sequence:\n",
    "0 1 1 2 3 5 8 13 21 34 55 89..."
   ]
  },
  {
   "cell_type": "markdown",
   "id": "37b552dd",
   "metadata": {},
   "source": [
    "17. Write a program to add first seven terms of the following series using a for loop: 1/1! + 2/2! + 3/3! . . ."
   ]
  },
  {
   "cell_type": "markdown",
   "id": "39d94ad5",
   "metadata": {},
   "source": [
    "18. Compute the sum up to n terms in the series \n",
    "\n",
    "1 - 1/2 + 1/3 - 1/4 + 1/5 -... 1/n\n",
    "\n",
    "where n is a positive integer and input by user."
   ]
  },
  {
   "cell_type": "markdown",
   "id": "bac28e82",
   "metadata": {},
   "source": [
    "19. Write programs to print following patterns :\n",
    "\n",
    "1\n",
    "**********\n",
    "**********\n",
    "**********\n",
    "**********\n",
    "2\n",
    "*\n",
    "**\n",
    "***\n",
    "****\n",
    "*****\n",
    "\n",
    "3\n",
    "    *\n",
    "   **\n",
    "  ***\n",
    " ****\n",
    "*****\n",
    "\n",
    "4\n",
    "    *\n",
    "   ***\n",
    "  *****\n",
    " *******\n",
    "*********\n",
    "\n",
    "5\n",
    "    1\n",
    "   222\n",
    "  33333\n",
    " 4444444\n",
    "555555555\n",
    "\n",
    "6\n",
    "    1\n",
    "   212\n",
    "  32123\n",
    " 4321234\n",
    "543212345"
   ]
  },
  {
   "cell_type": "markdown",
   "id": "e0763a6f",
   "metadata": {},
   "source": [
    "20. Floyd's triangle is a right-angled triangular array of natural numbers as shown below:\n",
    "\n",
    " 1\n",
    " 2 3\n",
    " 4 5 6\n",
    " 7  8  9 10\n",
    "11 12 13 14 15"
   ]
  },
  {
   "cell_type": "markdown",
   "id": "ba14d098",
   "metadata": {},
   "source": [
    "21. Write a program to compute sin x for given x. The user should supply x and a positive integer n. We compute the sine of x using the series and the computation should use all terms in the series up through the term involving xn\n",
    "sin x = x - x3/3! + x5/5! - x7/7! + x9/9! ........"
   ]
  },
  {
   "cell_type": "markdown",
   "id": "0a572ae7",
   "metadata": {},
   "source": [
    "22. Write a program to compute cosine of x. The user should supply x and a positive integer n. We compute the cosine of x using the series and the computation should use all terms in the series up through the term involving xn\n",
    "cos x = 1 - x2/2! + x4/4! - x6/6! ...."
   ]
  },
  {
   "cell_type": "markdown",
   "id": "85822c50",
   "metadata": {},
   "source": [
    "23. Write a program that generates a random number and asks the user to guess what the number is. If the user's guess is higher than the random number, the program should display \"Too high, try again.\" If the user's guess is lower than the random number, the program should display \"Too low, try again.\" The program should use a loop that repeats until the user correctly guesses the random number. Program should count and display number of tries to win the game."
   ]
  }
 ],
 "metadata": {
  "kernelspec": {
   "display_name": "Python 3 (ipykernel)",
   "language": "python",
   "name": "python3"
  },
  "language_info": {
   "codemirror_mode": {
    "name": "ipython",
    "version": 3
   },
   "file_extension": ".py",
   "mimetype": "text/x-python",
   "name": "python",
   "nbconvert_exporter": "python",
   "pygments_lexer": "ipython3",
   "version": "3.9.13"
  }
 },
 "nbformat": 4,
 "nbformat_minor": 5
}

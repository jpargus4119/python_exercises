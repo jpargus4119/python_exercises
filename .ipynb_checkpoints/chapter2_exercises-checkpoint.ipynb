{
 "cells": [
  {
   "cell_type": "markdown",
   "id": "ec5c4bc4",
   "metadata": {},
   "source": [
    "#### This notebook contains my python exercises on chapter 2 - conditional structures"
   ]
  },
  {
   "cell_type": "markdown",
   "id": "57356990",
   "metadata": {},
   "source": [
    "1. Write a program that prompts the user to input a number and display if the number is even or odd."
   ]
  },
  {
   "cell_type": "code",
   "execution_count": 12,
   "id": "9d7eb66b",
   "metadata": {},
   "outputs": [
    {
     "name": "stdout",
     "output_type": "stream",
     "text": [
      "Enter a number to determine if it's even or odd number : 123\n",
      "\n",
      "The number you entered is an odd number!\n"
     ]
    }
   ],
   "source": [
    "#Enter a number\n",
    "number = int(input(\"Enter a number to determine if it's even or odd number : \"))\n",
    "\n",
    "if number == 0:\n",
    "    print('\\nThe number you entered is zero!')\n",
    "elif number%2 == 1:\n",
    "    print('\\nThe number you entered is an odd number!')\n",
    "else :\n",
    "    print('\\nThe number you entered is an even number!')"
   ]
  },
  {
   "cell_type": "markdown",
   "id": "8b5efda8",
   "metadata": {},
   "source": [
    "2. Write a program that prompts the user to input two integers and outputs the largest."
   ]
  },
  {
   "cell_type": "code",
   "execution_count": 17,
   "id": "cdece709",
   "metadata": {},
   "outputs": [
    {
     "name": "stdout",
     "output_type": "stream",
     "text": [
      "Enter first number : 1\n",
      "\n",
      "Enter second number : 1\n",
      "\n",
      "The two numbers you entered are equal.\n"
     ]
    }
   ],
   "source": [
    "num1 = int(input('Enter first number : '))\n",
    "num2 = int(input('\\nEnter second number : '))\n",
    "\n",
    "if num1 == num2:\n",
    "    print('\\nThe two numbers you entered are equal.')\n",
    "elif num1 > num2:\n",
    "    print('\\nThe largest number you entered is : ', num1)\n",
    "else :\n",
    "    print('\\nThe largest number you entered is : ', num2)"
   ]
  },
  {
   "cell_type": "markdown",
   "id": "234e17a0",
   "metadata": {},
   "source": [
    "3. Write a program that prompts the user to input three integers and outputs the largest."
   ]
  },
  {
   "cell_type": "code",
   "execution_count": 30,
   "id": "1c5bd503",
   "metadata": {},
   "outputs": [
    {
     "name": "stdout",
     "output_type": "stream",
     "text": [
      "Enter first number : 3\n",
      "\n",
      "Enter second number : 1\n",
      "\n",
      "Enter third number : 3\n",
      "\n",
      "The largest number are number 1 and 3 which is both:  3\n"
     ]
    }
   ],
   "source": [
    "num1 = int(input('Enter first number : '))\n",
    "num2 = int(input('\\nEnter second number : '))\n",
    "num3 = int(input('\\nEnter third number : '))\n",
    "\n",
    "#when 3 numbers are equal\n",
    "if num1 == num2 and num2 == num3:\n",
    "    print('\\nThe three numbers you entered are all equal. Thus The largest number is : ',num1)\n",
    "#when num1 is the largest\n",
    "elif num1 > num2 and num1 > num3:\n",
    "    print('\\nThe largest number among the three is : ',num1)\n",
    "#when num1 & num2 are the largest\n",
    "elif num1 == num2 and num2 > num3:\n",
    "    print('\\nThe largest number are number 1 and 2 which is both: ',num1)\n",
    "#when num2 is the largest\n",
    "elif num2 > num3 and num2 > num1:\n",
    "    print('\\nThe largest among the three is : ',num2)\n",
    "#when num2 & num3 are the largest\n",
    "elif num2 == num3 and num3 > num1:\n",
    "    print('\\nThe largest number are number 2 and 3 which is both: ',num3)\n",
    "#when num3 is the largest\n",
    "elif num3 > num1 and num3 > num2:\n",
    "    print('\\nThe largest among the three is : ',num3)\n",
    "#when num3 & num1 are the largest\n",
    "elif num1 == num3 and num1 > num2:\n",
    "    print('\\nThe largest number are number 1 and 3 which is both: ',num3)"
   ]
  },
  {
   "cell_type": "markdown",
   "id": "8e8d6df9",
   "metadata": {},
   "source": [
    "4. Write a program that prompts the user to input a year and determine whether the year is a leap year or not.\n",
    "Leap Years are any year that can be evenly divided by 4. A year that is evenly divisible by 100 is a leap year only if it is also evenly divisible by 400. Example :\n",
    "\n",
    "1992\tLeap Year\n",
    "\n",
    "2000\tLeap Year\n",
    "\n",
    "1900\tNOT a Leap Year\n",
    "\n",
    "1995\tNOT a Leap Year "
   ]
  },
  {
   "cell_type": "code",
   "execution_count": 96,
   "id": "e5a36cab",
   "metadata": {},
   "outputs": [
    {
     "name": "stdout",
     "output_type": "stream",
     "text": [
      "\n",
      "Enter year : 1900\n",
      "\n",
      "NOT Leap Year\n"
     ]
    }
   ],
   "source": [
    "year = int(input('\\nEnter year : '))\n",
    "\n",
    "\n",
    "if year % 4 == 0:\n",
    "    if year % 100 != 0:\n",
    "        print('\\nLeap Year')\n",
    "    elif year % 100 == 0 and year % 400 == 0:\n",
    "        print('\\nLeap Year')\n",
    "    else :\n",
    "        print('\\nNOT Leap Year')\n",
    "else :\n",
    "    print('\\nNOT Leap Year')"
   ]
  },
  {
   "cell_type": "markdown",
   "id": "51b1e82f",
   "metadata": {},
   "source": [
    "5. Write a program that prompts the user to input number of calls and calculate the monthly telephone bills as per the following rule:\n",
    "\n",
    "Minimum Rs. 200 for up to 100 calls.\n",
    "\n",
    "Plus Rs. 0.60 per call for next 50 calls.\n",
    "\n",
    "Plus Rs. 0.50 per call for next 50 calls.\n",
    "\n",
    "Plus Rs. 0.40 per call for any call beyond 200 calls."
   ]
  },
  {
   "cell_type": "code",
   "execution_count": 109,
   "id": "67449446",
   "metadata": {},
   "outputs": [
    {
     "name": "stdout",
     "output_type": "stream",
     "text": [
      "Enter number of calls : 101\n",
      "\n",
      "Your bill is :  200.6\n"
     ]
    }
   ],
   "source": [
    "calls = int(input('Enter number of calls : '))\n",
    "\n",
    "min_bills = 200\n",
    "\n",
    "if calls < 100 and calls > 0:\n",
    "    print('\\nYour bill is : ',min_bills)\n",
    "elif calls == 0:\n",
    "    print('\\nYour bill is : ',min_bills)\n",
    "elif calls > 100 and calls < 150:\n",
    "    bills = min_bills + (calls-100) * (0.60)\n",
    "    print('\\nYour bill is : ',bills)\n",
    "elif calls > 150 and calls < 200:\n",
    "    bills = min_bills + (50*0.60) + (calls-150) * (0.50)\n",
    "    print('\\nYour bill is : ',bills)\n",
    "elif calls > 200:\n",
    "    bills = min_bills + (50*0.60) + (50*0.50) + (calls-200)*(0.40)\n",
    "    print('\\nYour bill is : ',bills)\n",
    "else:\n",
    "    print(\"\\nYou can't put negative number.\")"
   ]
  },
  {
   "cell_type": "markdown",
   "id": "397b3204",
   "metadata": {},
   "source": [
    "6. The roots of the quadratic equation ax2 + bx + c = 0, a ≠ 0 are given by the following formula:\n",
    "\n",
    "x = -b+-(sqrt(b^2-4ac)) / 2\n",
    "\n",
    "In this formula, the term b2 - 4ac is called the discriminant. If b2 - 4ac = 0, then the equation has two equal roots.\n",
    "If b2 - 4ac > 0, the equation has two real roots. If b2 - 4ac < 0, the equation has two complex roots.\n",
    "\n",
    "Write a program that prompts the user to input the value of a (the coefficient of x2), b (the coefficient of x), and c (the constant term) and outputs the roots of the quadratic equation."
   ]
  },
  {
   "cell_type": "code",
   "execution_count": 120,
   "id": "40a0b7d7",
   "metadata": {},
   "outputs": [
    {
     "name": "stdout",
     "output_type": "stream",
     "text": [
      "Enter the value of a : 1\n",
      "\n",
      "Enter the value of b : 2\n",
      "\n",
      "Enter the value of c : 1\n",
      "-1.0 -1.0\n"
     ]
    }
   ],
   "source": [
    "a = int(input('Enter the value of a : '))\n",
    "b = int(input('\\nEnter the value of b : '))\n",
    "c = int(input('\\nEnter the value of c : '))\n",
    "\n",
    "d = (b**2)-(4*a*c)\n",
    "\n",
    "x1 = (((-b) + ((b**2)-(4*a*c))**0.5))/2*a\n",
    "x2 = (((-b) - ((b**2)-(4*a*c))**0.5))/2*a\n",
    "\n",
    "#print(d)\n",
    "\n",
    "#D > 0, roots are real and distinct (unequal)\n",
    "#D = 0, roots are real and equal (coincident)\n",
    "#D < 0, roots are imaginary and unequal\n",
    "\n",
    "print(x1,x2)"
   ]
  },
  {
   "cell_type": "markdown",
   "id": "ef74d108",
   "metadata": {},
   "source": [
    "7. The marks obtained by a student in 3 different subjects are input by the user. Your program should calculate the average of subjects and display the grade. The student gets a grade as per the following rules:\n",
    "\n",
    "Average\tGrade\n",
    "\n",
    "90-100\tA\n",
    "\n",
    "80-89\tB\n",
    "\n",
    "70-79\tC\n",
    "\n",
    "60-69\tD\n",
    "\n",
    "0-59\tF"
   ]
  },
  {
   "cell_type": "code",
   "execution_count": 3,
   "id": "897d766a",
   "metadata": {},
   "outputs": [
    {
     "name": "stdout",
     "output_type": "stream",
     "text": [
      "Enter the grade of the first subject :98\n",
      "Enter the grade of the second subject :45\n",
      "Enter the grade of the third subject :85\n",
      "\n",
      "Student grade is \"C\".\n"
     ]
    }
   ],
   "source": [
    "grade1 = int(input('Enter the grade of the first subject :'))\n",
    "grade2 = int(input('Enter the grade of the second subject :'))\n",
    "grade3 = int(input('Enter the grade of the third subject :'))\n",
    "\n",
    "average = (grade1+grade2+grade3)/3\n",
    "\n",
    "if average <= 100 and average >= 90:\n",
    "    print('\\nStudent grade is \"A\".')\n",
    "elif average <= 89 and average >= 80:\n",
    "    print('\\nStudent grade is \"B\".')\n",
    "elif average <= 79 and average >= 70:\n",
    "    print('\\nStudent grade is \"C\".')\n",
    "elif average <= 69 and average >= 60:\n",
    "    print('\\nStudent grade is \"D\".')\n",
    "elif average <= 59 and average >= 0:\n",
    "    print('\\nStudent grade is \"F\".')\n",
    "else:\n",
    "    print('\\nInvalid input')"
   ]
  },
  {
   "cell_type": "markdown",
   "id": "07b2c17e",
   "metadata": {},
   "source": [
    "8. Write a program that prompts the user to input a number. Program should display the corresponding days to the number. For example if user type 1 the output should be sunday. If user type 7 the output should be saturday. "
   ]
  },
  {
   "cell_type": "code",
   "execution_count": 5,
   "id": "81857089",
   "metadata": {},
   "outputs": [
    {
     "name": "stdout",
     "output_type": "stream",
     "text": [
      "Enter a number to display its corresponding day : 1\n",
      "\n",
      "Sunday\n"
     ]
    }
   ],
   "source": [
    "day = int(input('Enter a number to display its corresponding day : '))\n",
    "\n",
    "if day == 1:\n",
    "    print('\\nSunday')\n",
    "elif day == 2:\n",
    "    print('\\nMonday')\n",
    "elif day == 3:\n",
    "    print('\\nTuesday')\n",
    "elif day == 4:\n",
    "    print('\\nWednesday')\n",
    "elif day == 5:\n",
    "    print('\\nThursday')\n",
    "elif day == 6:\n",
    "    print('\\nFriday')\n",
    "elif day == 7:\n",
    "    print('\\nSaturday')\n",
    "else:\n",
    "    print('\\nInvalid Input')\n"
   ]
  },
  {
   "cell_type": "markdown",
   "id": "437b5fd9",
   "metadata": {},
   "source": [
    "9. Write a program that prompts the user to input a character and determine the character is vowel or consonant."
   ]
  },
  {
   "cell_type": "code",
   "execution_count": 24,
   "id": "a496efcc",
   "metadata": {},
   "outputs": [
    {
     "name": "stdout",
     "output_type": "stream",
     "text": [
      "\n",
      "Enter a character : 5\n",
      "\n",
      "Invalid Input\n"
     ]
    }
   ],
   "source": [
    "ch = str(input('\\nEnter a character : '))\n",
    "\n",
    "ch = ord(ch)\n",
    "\n",
    "if ch==65 or ch==97 or ch==45 or ch==65 or ch==49 or ch==69 or ch==79 or ch==111 or ch==85 or ch==117:\n",
    "    print('\\nYou Entered a vowel.')\n",
    "elif ch>=65 and ch<=90 and ch!=65 and ch!=45 and ch!=49 and  ch!=79 and ch!=85:\n",
    "    print('\\nYou Entered a consonant.')\n",
    "elif ch>=97 and ch<=122 and ch!=97 and  ch!=65 and ch!=69 and  ch!=111 and ch!=117:\n",
    "    print('\\nYou Entered a consonant.')\n",
    "else:\n",
    "    print('\\nInvalid Input')"
   ]
  },
  {
   "cell_type": "code",
   "execution_count": null,
   "id": "2ac49385",
   "metadata": {},
   "outputs": [],
   "source": []
  }
 ],
 "metadata": {
  "kernelspec": {
   "display_name": "Python 3 (ipykernel)",
   "language": "python",
   "name": "python3"
  },
  "language_info": {
   "codemirror_mode": {
    "name": "ipython",
    "version": 3
   },
   "file_extension": ".py",
   "mimetype": "text/x-python",
   "name": "python",
   "nbconvert_exporter": "python",
   "pygments_lexer": "ipython3",
   "version": "3.9.13"
  }
 },
 "nbformat": 4,
 "nbformat_minor": 5
}

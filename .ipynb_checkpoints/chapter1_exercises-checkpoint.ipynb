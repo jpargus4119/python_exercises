{
 "cells": [
  {
   "cell_type": "markdown",
   "id": "2de289cf",
   "metadata": {},
   "source": [
    "#### This Program contains my answers on python assignment about VARIABLES, OPERATORS AND EXPRESSION."
   ]
  },
  {
   "cell_type": "markdown",
   "id": "f7346d75",
   "metadata": {},
   "source": [
    "1. Write a program that asks the user for his name and then welcomes him. The output should look like this :\n",
    "\n",
    "Enter your name : Saksham\n",
    "\n",
    "Hello Saksham"
   ]
  },
  {
   "cell_type": "code",
   "execution_count": null,
   "id": "569a0053",
   "metadata": {},
   "outputs": [],
   "source": []
  },
  {
   "cell_type": "markdown",
   "id": "01ba755f",
   "metadata": {},
   "source": [
    "2. Write a program that prompts the user to enter two integers and display the total on the screen."
   ]
  },
  {
   "cell_type": "code",
   "execution_count": null,
   "id": "d0d1f364",
   "metadata": {},
   "outputs": [],
   "source": []
  },
  {
   "cell_type": "markdown",
   "id": "90eb1632",
   "metadata": {},
   "source": [
    "3. Write a program that prompts the user to input a Celsius temperature and outputs the equivalent temperature in Fahrenheit. The formula to convert the temperature is: F = 9/5 C + 32 where F is the Fahrenheit temperature and C is the Celsius temperature."
   ]
  },
  {
   "cell_type": "code",
   "execution_count": null,
   "id": "03c83d92",
   "metadata": {},
   "outputs": [],
   "source": []
  },
  {
   "cell_type": "markdown",
   "id": "4e7dbc3a",
   "metadata": {},
   "source": [
    "4. Write a program which accept principle, rate and time from user and print the simple interest. The formula to calculate simple interest is: simple interest = principle x rate x time / 100"
   ]
  },
  {
   "cell_type": "code",
   "execution_count": null,
   "id": "c64c0f2d",
   "metadata": {},
   "outputs": [],
   "source": []
  },
  {
   "cell_type": "markdown",
   "id": "f1d887ec",
   "metadata": {},
   "source": [
    "5. Write a program that accepts seconds from keyboard as integer. Your program should converts seconds in hours, minutes and seconds. Your output should like this :\n",
    "\n",
    "Enter seconds: 13400\n",
    "\n",
    "Hours: 3\n",
    "\n",
    "Minutes: 43\n",
    "\n",
    "Seconds: 20  Solution"
   ]
  },
  {
   "cell_type": "code",
   "execution_count": null,
   "id": "92f25bf6",
   "metadata": {},
   "outputs": [],
   "source": []
  },
  {
   "cell_type": "markdown",
   "id": "31640509",
   "metadata": {},
   "source": [
    "6. Write a program that prompts the user to enter number in two variables and swap the contents of the variables."
   ]
  },
  {
   "cell_type": "code",
   "execution_count": null,
   "id": "4356a937",
   "metadata": {},
   "outputs": [],
   "source": []
  },
  {
   "cell_type": "markdown",
   "id": "5d6ee64c",
   "metadata": {},
   "source": [
    "7. Write a program that prompts the user to enter number in two variables and swap the contents of the variables.(Do not declare extra variable.)"
   ]
  },
  {
   "cell_type": "markdown",
   "id": "48e65094",
   "metadata": {},
   "source": [
    "8. Write a program that prompts the user to input the radius of a circle and outputs the area and circumference of the circle. The formula is\n",
    "\n",
    "Area = pi x radius2\n",
    "\n",
    "Circumference = 2 x pi x radius"
   ]
  },
  {
   "cell_type": "code",
   "execution_count": null,
   "id": "d9e85282",
   "metadata": {},
   "outputs": [],
   "source": []
  },
  {
   "cell_type": "markdown",
   "id": "a491c54c",
   "metadata": {},
   "source": [
    "9. Write a program that prompts the user to input the length and the width of a rectangle and outputs the area and circumference of the rectangle. The formula is\n",
    "\n",
    "Area = Length x Width\n",
    "\n",
    "Circumference = 2 x ( Length + Width)"
   ]
  },
  {
   "cell_type": "code",
   "execution_count": null,
   "id": "d49956c5",
   "metadata": {},
   "outputs": [],
   "source": []
  },
  {
   "cell_type": "markdown",
   "id": "aa069893",
   "metadata": {},
   "source": [
    "10. Suppose a, b, and c denote the lengths of the sides of a triangle. Then the area of the triangle can be calculated using the formula:\n",
    "\n",
    "area - sqrt((s(s-a)(s-b)(s-c))\n",
    "\n",
    "where s = (a+b+c)/2\n",
    "\n",
    "Write a program that asks the user to input the length of sides of the triangle and print the area. "
   ]
  },
  {
   "cell_type": "code",
   "execution_count": null,
   "id": "a18a038b",
   "metadata": {},
   "outputs": [],
   "source": []
  },
  {
   "cell_type": "markdown",
   "id": "1abc5f9f",
   "metadata": {},
   "source": [
    "11. Write a program which prompts the user to input principle, rate and time and calculate compound interest. The formula is :\n",
    "\n",
    "CI = P(1+R/100)^T - P"
   ]
  },
  {
   "cell_type": "code",
   "execution_count": null,
   "id": "cf138873",
   "metadata": {},
   "outputs": [],
   "source": []
  }
 ],
 "metadata": {
  "kernelspec": {
   "display_name": "Python 3 (ipykernel)",
   "language": "python",
   "name": "python3"
  },
  "language_info": {
   "codemirror_mode": {
    "name": "ipython",
    "version": 3
   },
   "file_extension": ".py",
   "mimetype": "text/x-python",
   "name": "python",
   "nbconvert_exporter": "python",
   "pygments_lexer": "ipython3",
   "version": "3.9.13"
  }
 },
 "nbformat": 4,
 "nbformat_minor": 5
}
